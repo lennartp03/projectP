{
 "cells": [
  {
   "cell_type": "code",
   "execution_count": 1,
   "metadata": {},
   "outputs": [],
   "source": [
    "import zipfile\n",
    "import os\n",
    "import pathlib"
   ]
  },
  {
   "cell_type": "code",
   "execution_count": 17,
   "metadata": {},
   "outputs": [],
   "source": [
    "# Unzipping all files in a folder\n",
    "\n",
    "path = '/Users/philipp/Documents/02_Master_Uni/Uni_Tübingen/Semester_1/06 Data Literacy/02 Project/datasets_ERA5_zipped copy'\n",
    "output_path = '/Users/philipp/Documents/02_Master_Uni/Uni_Tübingen/Semester_1/06 Data Literacy/02 Project/unzipped/'\n",
    "\n",
    "files=os.listdir(path)\n",
    "for file in files:\n",
    "    if file.endswith('.zip'):\n",
    "        filePath=path+'/'+file\n",
    "        zip_file = zipfile.ZipFile(filePath)\n",
    "        for names in zip_file.namelist():\n",
    "            namestring = file.rstrip('.zip')\n",
    "            zip_file.extract(names,f'{output_path}/{namestring}')\n",
    "        zip_file.close() "
   ]
  },
  {
   "cell_type": "code",
   "execution_count": 18,
   "metadata": {},
   "outputs": [],
   "source": [
    "# read each folder in unzipped folder and rename the files\n",
    "path_new = output_path\n",
    "folders=os.listdir(path_new)\n",
    "path_renamed_files = '/Users/philipp/Documents/02_Master_Uni/Uni_Tübingen/Semester_1/06 Data Literacy/02 Project/era5_files'\n",
    "\n",
    "i = 1\n",
    "for folder in folders:\n",
    "    if os.path.isdir(path_new + folder):\n",
    "        files_unzipped = os.listdir(path_new + folder)\n",
    "        for file in files_unzipped:\n",
    "            dst =  file.rstrip('.nc') + str(i) + \".nc\"\n",
    "            os.rename(os.path.join(path_new, folder, file), os.path.join(path_renamed_files, dst))\n",
    "            i += 1\n"
   ]
  }
 ],
 "metadata": {
  "kernelspec": {
   "display_name": "projectP_venv",
   "language": "python",
   "name": "python3"
  },
  "language_info": {
   "codemirror_mode": {
    "name": "ipython",
    "version": 3
   },
   "file_extension": ".py",
   "mimetype": "text/x-python",
   "name": "python",
   "nbconvert_exporter": "python",
   "pygments_lexer": "ipython3",
   "version": "3.9.18"
  }
 },
 "nbformat": 4,
 "nbformat_minor": 2
}
