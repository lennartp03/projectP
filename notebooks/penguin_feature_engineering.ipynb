{
 "cells": [
  {
   "cell_type": "code",
   "execution_count": 2,
   "metadata": {},
   "outputs": [],
   "source": [
    "import sys\n",
    "import os\n",
    "\n",
<<<<<<< HEAD
    "# Calculate the absolute path to the project root (one level up) to make src available\n",
    "project_root = os.path.abspath(os.path.join(os.getcwd(), '..'))\n",
    "if project_root not in sys.path:\n",
    "    sys.path.insert(0, project_root)\n",
    "\n",
    "import src.utils.features_penguins as ftpen"
=======
    "import src.utils.features_penguins as ftpen\n",
    "##"
   ]
  },
  {
   "cell_type": "markdown",
   "metadata": {},
   "source": [
    "--> use track_id (see documentation, bird_id not unique)"
>>>>>>> 3ba966a (further cleanup, file structure adjusted from absolute to relative)
   ]
  },
  {
   "cell_type": "code",
<<<<<<< HEAD
   "execution_count": 3,
=======
   "execution_count": 8,
>>>>>>> 3ba966a (further cleanup, file structure adjusted from absolute to relative)
   "metadata": {},
   "outputs": [],
   "source": [
    "PENGUIN_DATA = '../data/penguin/'\n",
    "\n",
    "# Load data into one frame\n",
    "df = ftpen.load_penguins(PENGUIN_DATA)     \n",
    "\n",
    "# Resolve date formatting issues\n",
    "df = ftpen.date_formatting(df)                           \n",
    "\n",
    "# Delete duplicates\n",
    "df = df.drop_duplicates(subset=['track_id', 'datetime']).reset_index(drop=True)\n",
    "df = df.sort_values(['track_id', 'datetime']).reset_index(drop=True)\n",
    "\n",
    "# breed_status is redundant and dropped\n",
    "df = df.drop(columns='breed_status')"
   ]
  },
  {
   "cell_type": "markdown",
   "metadata": {},
   "source": [
    "### Feature Engineering - adding penguin features"
   ]
  },
  {
   "cell_type": "code",
   "execution_count": null,
   "metadata": {},
   "outputs": [],
   "source": [
    "# Calculate geodesic distance to colony (WGS-84 ellipsoid)\n",
    "df = ftpen.geodesic_distance(df)                                   \n",
    "\n",
    "# mean distance between consecutive points \n",
    "mean_distance, std_distance = ftpen.mean_distance(df)                  \n",
    "\n",
    "# Relative position of individual penguin to colony\n",
    "df = ftpen.calculate_relative_position(df)                           \n",
    "\n",
    "# Direction of travel of individual penguin (relative to last point)\n",
    "df = ftpen.direction_of_travel(df)                                     \n",
    "\n",
    "# Distance travelled since last measure\n",
    "df = ftpen.distance_since_last_measure(df)                             \n",
    "\n",
    "# Distance in NSWE direction since last measure\n",
    "df = ftpen.distance_direction(df)   \n",
    "                                   \n",
    "# Time between measures\n",
    "df = ftpen.time_difference(df)                                          \n"
   ]
  },
  {
   "cell_type": "code",
   "execution_count": null,
   "metadata": {},
   "outputs": [],
   "source": [
    "# save df to csv and store in zip file\n",
    "SAVE_PATH = '../data/penguin/'\n",
    "#ftpen.save_df(df, SAVE_PATH, 'penguins_cleaned.csv')  \n",
    "\n",
    " # Calculate average values per day and track_id and store the FINAL PENGUIN DATA\n",
    "df_penguins_final = ftpen.average_per_day(df)                      \n",
    "ftpen.save_df(df_penguins_final, SAVE_PATH, 'penguins_final.csv')\n",
    "\n",
    "# COMMENT THIS IN TO SAVE THE JSON FILE WITH ALL DATES FOR WHICH PENGUIN DATA EXISTS\n",
    "# IMPORTANT FOR THE API CALL REGARDING ERA5 DATA\n",
    "\n",
    "#PATH_JSON = '../data/era5/'\n",
    "#ftpen.save_to_json(df_penguins_final, PATH_JSON, 'unique_dates_dict.json')"
   ]
  },
  {
   "cell_type": "code",
   "execution_count": 5,
   "metadata": {},
   "outputs": [
    {
     "name": "stdout",
     "output_type": "stream",
     "text": [
      "\n",
      "========Adelie Penguin========\n",
      "King George Island 156.8922767009632\n",
      "Hope Bay 204.50053560976153\n",
      "Powell Island/Peng colony 241.1019912032257\n",
      "Signy Island/Gourlay 234.41072806291984\n",
      "Signy Island/North Point 397.9617597992179\n",
      "Admiralty Bay 252.13850471057341\n",
      "\n",
      "========Chinstrap Penguin========\n",
      "Laurie Island/Cape Geddes 33.81119977181794\n",
      "Signy Island/Gourlay 15.947249101383004\n",
      "Powell Island/Peng colony 20.863095171907656\n",
      "Admiralty Bay 191.11673222630225\n",
      "Cape Shirreff 898.6426014496931\n",
      "\n",
      "========Gentoo Penguin========\n",
      "Signy Island/North Point 14.226600107963876\n",
      "Admiralty Bay 9.8093438462616\n",
      "Cape Shirreff 48.9572812598909\n"
     ]
    }
   ],
   "source": [
    "# standard deviation of penguins distance to colony\n",
    "species = df['common_name'].unique()\n",
    "ftpen.spread_species(df_penguins_final, species)        "
   ]
  },
  {
   "cell_type": "code",
   "execution_count": 6,
   "metadata": {},
   "outputs": [
    {
     "name": "stdout",
     "output_type": "stream",
     "text": [
      "\n",
      "========Adelie Penguin========\n",
      "King George Island 129.4704820208191\n",
      "Hope Bay 164.31657218913702\n",
      "Powell Island/Peng colony 188.51774155572733\n",
      "Signy Island/Gourlay 200.64823394539997\n",
      "Signy Island/North Point 340.63002199213594\n",
      "Admiralty Bay 187.6252134675522\n",
      "\n",
      "========Chinstrap Penguin========\n",
      "Laurie Island/Cape Geddes 19.19342632712171\n",
      "Signy Island/Gourlay 12.324104237789532\n",
      "Powell Island/Peng colony 12.005098504707796\n",
      "Admiralty Bay 96.47090182991843\n",
      "Cape Shirreff 571.9082535242949\n",
      "\n",
      "========Gentoo Penguin========\n",
      "Signy Island/North Point 8.846322623042843\n",
      "Admiralty Bay 6.105893753653458\n",
      "Cape Shirreff 32.132810331351685\n"
     ]
    }
   ],
   "source": [
<<<<<<< HEAD
    "# mean deviation to colony per specie and colony\n",
    "ftpen.calculte_mean_deviation(df_penguins_final)            "
=======
    "ftpen.calculte_mean_deviation(df_penguins_final)            # mean deviation to colony per specie and colony"
   ]
  },
  {
   "cell_type": "code",
   "execution_count": 55,
   "metadata": {},
   "outputs": [],
   "source": [
    "# add year back for calculation\n",
    "# extract each unique combination of year, month and day in a dictionary\n",
    "\"\"\"\n",
    "unique_dates = df_penguins_final['date_gmt'].unique()\n",
    "for date in unique_dates:\n",
    "    year = date.split('-')[0]\n",
    "    df_penguins_final.loc[df_penguins_final['date_gmt'] == date, 'year'] = year\n",
    "df_penguins_final = df_penguins_final.sort_values('year').reset_index(drop=True)\n",
    "\"\"\""
   ]
  },
  {
   "cell_type": "code",
   "execution_count": 56,
   "metadata": {},
   "outputs": [
    {
     "name": "stdout",
     "output_type": "stream",
     "text": [
      "Adelie Penguin 1996: 46\n",
      "Adelie Penguin 1997: 198\n",
      "Adelie Penguin 1999: 34\n",
      "Adelie Penguin 2000: 75\n",
      "Adelie Penguin 2001: 19\n",
      "Adelie Penguin 2002: 77\n",
      "Adelie Penguin 2003: 69\n",
      "Adelie Penguin 2004: 212\n",
      "Adelie Penguin 2005: 295\n",
      "Adelie Penguin 2006: 41\n",
      "Adelie Penguin 2007: 19\n",
      "Adelie Penguin 2008: 0\n",
      "Adelie Penguin 2009: 10\n",
      "Adelie Penguin 2010: 122\n",
      "Adelie Penguin 2011: 44\n",
      "Adelie Penguin 2012: 1081\n",
      "Adelie Penguin 2013: 720\n",
      "Adelie Penguin 2014: 766\n",
      "Adelie Penguin 2016: 1265\n",
      "Adelie Penguin 2017: 937\n",
      "Chinstrap Penguin 1996: 0\n",
      "Chinstrap Penguin 1997: 0\n",
      "Chinstrap Penguin 1999: 46\n",
      "Chinstrap Penguin 2000: 273\n",
      "Chinstrap Penguin 2001: 121\n",
      "Chinstrap Penguin 2002: 155\n",
      "Chinstrap Penguin 2003: 177\n",
      "Chinstrap Penguin 2004: 133\n",
      "Chinstrap Penguin 2005: 124\n",
      "Chinstrap Penguin 2006: 495\n",
      "Chinstrap Penguin 2007: 226\n",
      "Chinstrap Penguin 2008: 64\n",
      "Chinstrap Penguin 2009: 155\n",
      "Chinstrap Penguin 2010: 503\n",
      "Chinstrap Penguin 2011: 839\n",
      "Chinstrap Penguin 2012: 465\n",
      "Chinstrap Penguin 2013: 147\n",
      "Chinstrap Penguin 2014: 413\n",
      "Chinstrap Penguin 2016: 0\n",
      "Chinstrap Penguin 2017: 0\n",
      "Gentoo Penguin 1996: 0\n",
      "Gentoo Penguin 1997: 0\n",
      "Gentoo Penguin 1999: 0\n",
      "Gentoo Penguin 2000: 0\n",
      "Gentoo Penguin 2001: 0\n",
      "Gentoo Penguin 2002: 53\n",
      "Gentoo Penguin 2003: 228\n",
      "Gentoo Penguin 2004: 11\n",
      "Gentoo Penguin 2005: 154\n",
      "Gentoo Penguin 2006: 232\n",
      "Gentoo Penguin 2007: 184\n",
      "Gentoo Penguin 2008: 167\n",
      "Gentoo Penguin 2009: 79\n",
      "Gentoo Penguin 2010: 508\n",
      "Gentoo Penguin 2011: 723\n",
      "Gentoo Penguin 2012: 184\n",
      "Gentoo Penguin 2013: 239\n",
      "Gentoo Penguin 2014: 98\n",
      "Gentoo Penguin 2016: 0\n",
      "Gentoo Penguin 2017: 0\n"
     ]
    }
   ],
   "source": [
    "\"\"\"\n",
    "# print number of oberverations per year and species\n",
    "species = df_penguins_final['common_name'].unique()\n",
    "years = df_penguins_final['year'].unique()\n",
    "for specie in species:\n",
    "    for year in years:\n",
    "        print(specie, f'{year}:', len(df_penguins_final[(df_penguins_final['common_name'] == specie) & (df_penguins_final['year'] == year)]))\n",
    "\"\"\""
   ]
  },
  {
   "cell_type": "markdown",
   "metadata": {},
   "source": [
    "Could be beneficial to filter out years with less than 30 obs.\n",
    "Also for interpretability, from 2012 on,  it is mainly adelie penguins"
   ]
  },
  {
   "cell_type": "markdown",
   "metadata": {},
   "source": [
    "### Just for fun"
   ]
  },
  {
   "cell_type": "code",
   "execution_count": null,
   "metadata": {},
   "outputs": [],
   "source": [
    "mean_deviation_colony_df = ftpen.mean_deviation_colony(df, df_penguins_final)           # Mean deviation on a yearly level"
   ]
  },
  {
   "cell_type": "code",
   "execution_count": null,
   "metadata": {},
   "outputs": [],
   "source": [
    "# availability check (if needed)\n",
    "ftpen.check_availability(df_penguins_final, 5)"
   ]
  },
  {
   "cell_type": "markdown",
   "metadata": {},
   "source": [
    "## Some more EDA"
   ]
  },
  {
   "cell_type": "code",
   "execution_count": null,
   "metadata": {},
   "outputs": [],
   "source": [
    "species = df['common_name'].unique()\n",
    "ftpen.plot_yearly_species(df, 4, species)"
   ]
  },
  {
   "cell_type": "markdown",
   "metadata": {},
   "source": [
    "- Chinstrap and Gentoo penguins show pretty similar patterns, adelie is only species where we would confidently say that the patterns are going up (specieswise)\n",
    "- the 2010/2011 peak is from the cape shirreff colonies "
   ]
  },
  {
   "cell_type": "code",
   "execution_count": 138,
   "metadata": {},
   "outputs": [
    {
     "data": {
      "image/png": "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",
      "text/plain": [
       "<Figure size 640x480 with 2 Axes>"
      ]
     },
     "metadata": {},
     "output_type": "display_data"
    }
   ],
   "source": [
    "# correlations of species/years\n",
    "species = df['common_name'].unique()\n",
    "years = sorted(df['year'].unique())\n",
    "\n",
    "df_new = pd.DataFrame()\n",
    "df_new['year'] = years\n",
    "\n",
    "df_new = pd.DataFrame({'year': years})  # Initialize with year column\n",
    "\n",
    "for sp in species:\n",
    "    grouped_data = df[df['common_name'] == sp].groupby('year')['km_to_colony'].mean()\n",
    "    df_new[sp] = df_new['year'].map(grouped_data)\n",
    "\n",
    "correlation_matrix = df_new[species].corr()\n",
    "\n",
    "sns.heatmap(correlation_matrix, annot=True)\n",
    "plt.title(f'Correlation Matrix of penguin travel pattern')\n",
    "plt.show()"
   ]
  },
  {
   "cell_type": "code",
   "execution_count": 214,
   "metadata": {},
   "outputs": [
    {
     "name": "stdout",
     "output_type": "stream",
     "text": [
      "2013    143\n",
      "2012    134\n",
      "2014    113\n",
      "2004    103\n",
      "2016     56\n",
      "2005     56\n",
      "2003     53\n",
      "1997     45\n",
      "2017     44\n",
      "2010     42\n",
      "2002     34\n",
      "2000     29\n",
      "1996     25\n",
      "1999     18\n",
      "2011     11\n",
      "2009     10\n",
      "2001     10\n",
      "2006     10\n",
      "2007      4\n",
      "Name: year, dtype: int64\n"
     ]
    },
    {
     "name": "stderr",
     "output_type": "stream",
     "text": [
      "/var/folders/pf/pkxhbds54clgt4d3jrz5l8kw0000gn/T/ipykernel_11747/2414832450.py:6: FutureWarning: The default value of numeric_only in DataFrameGroupBy.mean is deprecated. In a future version, numeric_only will default to False. Either specify numeric_only or select only columns which should be valid for the function.\n",
      "  df_adelie = df_adelie.groupby(['year', 'month', 'day']).mean().reset_index()\n"
     ]
    }
   ],
   "source": [
    "\"\"\"\n",
    "# check which years with adelie penguins have more than 100 days of data\n",
    "df_adelie = df[df['common_name'] == 'Adelie Penguin']\n",
    "years = sorted(df_adelie['year'].unique())\n",
    "\n",
    "# group by day\n",
    "df_adelie = df_adelie.groupby(['year', 'month', 'day']).mean().reset_index()\n",
    "\n",
    "print(df_adelie['year'].value_counts())\n",
    "\"\"\""
>>>>>>> 3ba966a (further cleanup, file structure adjusted from absolute to relative)
   ]
  }
 ],
 "metadata": {
  "kernelspec": {
   "display_name": "penguin",
   "language": "python",
   "name": "python3"
  },
  "language_info": {
   "codemirror_mode": {
    "name": "ipython",
    "version": 3
   },
   "file_extension": ".py",
   "mimetype": "text/x-python",
   "name": "python",
   "nbconvert_exporter": "python",
   "pygments_lexer": "ipython3",
   "version": "3.12.8"
  }
 },
 "nbformat": 4,
 "nbformat_minor": 2
}
                                                                                                                                                                                                                                                                                                                                                                                                                                                                                                                                                                                                                                                                                                                                                                                                                                                                                                                                                                                                                                                                                                                                                                                                                                                                                                                                                                                                                                                                                                                                                                                                                                                                                                                                                                                                                                                                                                                                                                                                                                                                                                                                                                                                                                                                                                                                                                                                                                                                                                                                                                                                                                                                                                                                                                                                                                                                                                                                                                                                   