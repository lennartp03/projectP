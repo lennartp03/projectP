{
 "cells": [
  {
   "cell_type": "code",
   "execution_count": 2,
   "metadata": {},
   "outputs": [],
   "source": [
    "import sys\n",
    "import os\n",
    "\n",
    "# Calculate the absolute path to the project root (one level up) to make src available\n",
    "project_root = os.path.abspath(os.path.join(os.getcwd(), '..'))\n",
    "if project_root not in sys.path:\n",
    "    sys.path.insert(0, project_root)\n",
    "\n",
    "import src.utils.features_penguins as ftpen"
   ]
  },
  {
   "cell_type": "code",
   "execution_count": 3,
   "metadata": {},
   "outputs": [],
   "source": [
    "PENGUIN_DATA = '../data/penguin/'\n",
    "\n",
    "# Load data into one frame\n",
    "df = ftpen.load_penguins(PENGUIN_DATA)     \n",
    "\n",
    "# Resolve date formatting issues\n",
    "df = ftpen.date_formatting(df)                           \n",
    "\n",
    "# Delete duplicates\n",
    "df = df.drop_duplicates(subset=['track_id', 'datetime']).reset_index(drop=True)\n",
    "df = df.sort_values(['track_id', 'datetime']).reset_index(drop=True)\n",
    "\n",
    "# breed_status is redundant and dropped\n",
    "df = df.drop(columns='breed_status')"
   ]
  },
  {
   "cell_type": "markdown",
   "metadata": {},
   "source": [
    "### Feature Engineering - adding penguin features"
   ]
  },
  {
   "cell_type": "code",
   "execution_count": null,
   "metadata": {},
   "outputs": [],
   "source": [
    "# Calculate geodesic distance to colony (WGS-84 ellipsoid)\n",
    "df = ftpen.geodesic_distance(df)                                   \n",
    "\n",
    "# mean distance between consecutive points \n",
    "mean_distance, std_distance = ftpen.mean_distance(df)                  \n",
    "\n",
    "# Relative position of individual penguin to colony\n",
    "df = ftpen.calculate_relative_position(df)                           \n",
    "\n",
    "# Direction of travel of individual penguin (relative to last point)\n",
    "df = ftpen.direction_of_travel(df)                                     \n",
    "\n",
    "# Distance travelled since last measure\n",
    "df = ftpen.distance_since_last_measure(df)                             \n",
    "\n",
    "# Distance in NSWE direction since last measure\n",
    "df = ftpen.distance_direction(df)   \n",
    "                                   \n",
    "# Time between measures\n",
    "df = ftpen.time_difference(df)                                          \n"
   ]
  },
  {
   "cell_type": "code",
   "execution_count": null,
   "metadata": {},
   "outputs": [],
   "source": [
    "# save df to csv and store in zip file\n",
    "SAVE_PATH = '../data/penguin/'\n",
    "#ftpen.save_df(df, SAVE_PATH, 'penguins_cleaned.csv')  \n",
    "\n",
    " # Calculate average values per day and track_id and store the FINAL PENGUIN DATA\n",
    "df_penguins_final = ftpen.average_per_day(df)                      \n",
    "ftpen.save_df(df_penguins_final, SAVE_PATH, 'penguins_final.csv')\n",
    "\n",
    "# COMMENT THIS IN TO SAVE THE JSON FILE WITH ALL DATES FOR WHICH PENGUIN DATA EXISTS\n",
    "# IMPORTANT FOR THE API CALL REGARDING ERA5 DATA\n",
    "\n",
    "#PATH_JSON = '../data/era5/'\n",
    "#ftpen.save_to_json(df_penguins_final, PATH_JSON, 'unique_dates_dict.json')"
   ]
  },
  {
   "cell_type": "code",
   "execution_count": 5,
   "metadata": {},
   "outputs": [
    {
     "name": "stdout",
     "output_type": "stream",
     "text": [
      "\n",
      "========Adelie Penguin========\n",
      "King George Island 156.8922767009632\n",
      "Hope Bay 204.50053560976153\n",
      "Powell Island/Peng colony 241.1019912032257\n",
      "Signy Island/Gourlay 234.41072806291984\n",
      "Signy Island/North Point 397.9617597992179\n",
      "Admiralty Bay 252.13850471057341\n",
      "\n",
      "========Chinstrap Penguin========\n",
      "Laurie Island/Cape Geddes 33.81119977181794\n",
      "Signy Island/Gourlay 15.947249101383004\n",
      "Powell Island/Peng colony 20.863095171907656\n",
      "Admiralty Bay 191.11673222630225\n",
      "Cape Shirreff 898.6426014496931\n",
      "\n",
      "========Gentoo Penguin========\n",
      "Signy Island/North Point 14.226600107963876\n",
      "Admiralty Bay 9.8093438462616\n",
      "Cape Shirreff 48.9572812598909\n"
     ]
    }
   ],
   "source": [
    "# standard deviation of penguins distance to colony\n",
    "species = df['common_name'].unique()\n",
    "ftpen.spread_species(df_penguins_final, species)        "
   ]
  },
  {
   "cell_type": "code",
   "execution_count": 6,
   "metadata": {},
   "outputs": [
    {
     "name": "stdout",
     "output_type": "stream",
     "text": [
      "\n",
      "========Adelie Penguin========\n",
      "King George Island 129.4704820208191\n",
      "Hope Bay 164.31657218913702\n",
      "Powell Island/Peng colony 188.51774155572733\n",
      "Signy Island/Gourlay 200.64823394539997\n",
      "Signy Island/North Point 340.63002199213594\n",
      "Admiralty Bay 187.6252134675522\n",
      "\n",
      "========Chinstrap Penguin========\n",
      "Laurie Island/Cape Geddes 19.19342632712171\n",
      "Signy Island/Gourlay 12.324104237789532\n",
      "Powell Island/Peng colony 12.005098504707796\n",
      "Admiralty Bay 96.47090182991843\n",
      "Cape Shirreff 571.9082535242949\n",
      "\n",
      "========Gentoo Penguin========\n",
      "Signy Island/North Point 8.846322623042843\n",
      "Admiralty Bay 6.105893753653458\n",
      "Cape Shirreff 32.132810331351685\n"
     ]
    }
   ],
   "source": [
    "# mean deviation to colony per specie and colony\n",
    "ftpen.calculte_mean_deviation(df_penguins_final)            "
   ]
  }
 ],
 "metadata": {
  "kernelspec": {
   "display_name": "penguin",
   "language": "python",
   "name": "python3"
  },
  "language_info": {
   "codemirror_mode": {
    "name": "ipython",
    "version": 3
   },
   "file_extension": ".py",
   "mimetype": "text/x-python",
   "name": "python",
   "nbconvert_exporter": "python",
   "pygments_lexer": "ipython3",
   "version": "3.12.8"
  }
 },
 "nbformat": 4,
 "nbformat_minor": 2
}
