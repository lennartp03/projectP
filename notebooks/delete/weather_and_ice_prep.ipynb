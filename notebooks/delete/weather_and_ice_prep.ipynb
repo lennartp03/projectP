{
 "cells": [
  {
   "cell_type": "code",
   "execution_count": 1,
   "metadata": {},
   "outputs": [],
   "source": [
    "import zipfile\n",
    "import os\n",
    "import sys\n",
    "# Calculate the absolute path to the project root (one level up) to make src available\n",
    "project_root = os.path.abspath(os.path.join(os.getcwd(), '..'))\n",
    "if project_root not in sys.path:\n",
    "    sys.path.insert(0, project_root)\n",
    "import pandas as pd\n",
    "import numpy as np\n",
    "import pathlib\n",
    "import xarray as xr\n",
    "import netCDF4 as nc\n",
    "import dask\n",
    "import json\n",
    "import shutil\n",
    "import src.utils.era5_prep as era5"
   ]
  },
  {
   "cell_type": "markdown",
   "metadata": {},
   "source": [
    "## For Daily Data:"
   ]
  },
  {
   "cell_type": "code",
   "execution_count": 6,
   "metadata": {},
   "outputs": [],
   "source": [
    "folder = '../data/era5_daily'\n"
   ]
  },
  {
   "cell_type": "code",
   "execution_count": 3,
   "metadata": {},
   "outputs": [],
   "source": [
    "era5.unzip_files(folder)"
   ]
  },
  {
   "cell_type": "code",
   "execution_count": 7,
   "metadata": {},
   "outputs": [],
   "source": [
    "# read each folder in unzipped folder and rename the files\n",
    "era5.flatten_and_rename_nc_files(folder)"
   ]
  },
  {
   "cell_type": "code",
   "execution_count": 6,
   "metadata": {},
   "outputs": [],
   "source": [
    "def join_dataframes(files, input_folder, identifier: str):\n",
    "    # Filter files based on the identifier\n",
    "    filtered_files = [os.path.join(input_folder, file) for file in files if file.startswith(identifier)]\n",
    "    \n",
    "    # Use xr.open_mfdataset to open multiple files\n",
    "    x = xr.open_mfdataset(filtered_files, engine='netcdf4', combine='by_coords')\n",
    "    \n",
    "    # Convert to dataframe\n",
    "    x_frame = x.to_dataframe().reset_index()\n",
    "    \n",
    "    # Group by and aggregate\n",
    "    flattened = x_frame.groupby(['valid_time', 'latitude', 'longitude']).agg('sum').reset_index()\n",
    "    \n",
    "    return flattened\n",
    "\n",
    "# total_precipitation_2_daily-meaXXX.nc\n",
    "path_renamed_files = '/Users/philipp/Documents/02_Master_Uni/Uni_Tübingen/Semester_1/06 Data Literacy/02 Project/era5_files/'\n",
    "files=os.listdir(path_renamed_files)\n",
    "\n",
    "total_precipitation = join_dataframes(files, path_renamed_files, 'total_precipitation')\n",
    "print(total_precipitation.head())"
   ]
  },
  {
   "cell_type": "code",
   "execution_count": 71,
   "metadata": {},
   "outputs": [
    {
     "name": "stdout",
     "output_type": "stream",
     "text": [
      "  valid_time  latitude  longitude   tp  number\n",
      "0 2011-09-01     -86.0     -162.0  0.0       0\n",
      "1 2011-09-01     -86.0     -161.5  0.0       0\n",
      "2 2011-09-01     -86.0     -161.0  0.0       0\n",
      "3 2011-09-01     -86.0     -160.5  0.0       0\n",
      "4 2011-09-01     -86.0     -160.0  0.0       0\n"
     ]
    }
   ],
   "source": [
    "# total_precipitation_2_daily-meaXXX.nc\n",
    "path_renamed_files = '/Users/philipp/Documents/02_Master_Uni/Uni_Tübingen/Semester_1/06 Data Literacy/02 Project/era5_files/'\n",
    "files=os.listdir(path_renamed_files)\n",
    "\n",
    "total_precipitation = join_dataframes(files, path_renamed_files, 'total_precipitation')\n",
    "print(total_precipitation.head())"
   ]
  },
  {
   "cell_type": "code",
   "execution_count": 72,
   "metadata": {},
   "outputs": [
    {
     "data": {
      "text/html": [
       "<div>\n",
       "<style scoped>\n",
       "    .dataframe tbody tr th:only-of-type {\n",
       "        vertical-align: middle;\n",
       "    }\n",
       "\n",
       "    .dataframe tbody tr th {\n",
       "        vertical-align: top;\n",
       "    }\n",
       "\n",
       "    .dataframe thead th {\n",
       "        text-align: right;\n",
       "    }\n",
       "</style>\n",
       "<table border=\"1\" class=\"dataframe\">\n",
       "  <thead>\n",
       "    <tr style=\"text-align: right;\">\n",
       "      <th></th>\n",
       "      <th>valid_time</th>\n",
       "      <th>latitude</th>\n",
       "      <th>longitude</th>\n",
       "      <th>tp</th>\n",
       "      <th>number</th>\n",
       "    </tr>\n",
       "  </thead>\n",
       "  <tbody>\n",
       "    <tr>\n",
       "      <th>count</th>\n",
       "      <td>64233400</td>\n",
       "      <td>64233400.0</td>\n",
       "      <td>6.423340e+07</td>\n",
       "      <td>6.423340e+07</td>\n",
       "      <td>64233400.0</td>\n",
       "    </tr>\n",
       "    <tr>\n",
       "      <th>mean</th>\n",
       "      <td>2007-08-23 12:56:56.727273984</td>\n",
       "      <td>-62.0</td>\n",
       "      <td>-8.700000e+01</td>\n",
       "      <td>2.216148e-04</td>\n",
       "      <td>0.0</td>\n",
       "    </tr>\n",
       "    <tr>\n",
       "      <th>min</th>\n",
       "      <td>1996-10-30 00:00:00</td>\n",
       "      <td>-86.0</td>\n",
       "      <td>-1.620000e+02</td>\n",
       "      <td>0.000000e+00</td>\n",
       "      <td>0.0</td>\n",
       "    </tr>\n",
       "    <tr>\n",
       "      <th>25%</th>\n",
       "      <td>2003-05-07 18:00:00</td>\n",
       "      <td>-74.0</td>\n",
       "      <td>-1.245000e+02</td>\n",
       "      <td>4.827976e-06</td>\n",
       "      <td>0.0</td>\n",
       "    </tr>\n",
       "    <tr>\n",
       "      <th>50%</th>\n",
       "      <td>2008-12-26 12:00:00</td>\n",
       "      <td>-62.0</td>\n",
       "      <td>-8.700000e+01</td>\n",
       "      <td>6.544590e-05</td>\n",
       "      <td>0.0</td>\n",
       "    </tr>\n",
       "    <tr>\n",
       "      <th>75%</th>\n",
       "      <td>2011-09-17 06:00:00</td>\n",
       "      <td>-50.0</td>\n",
       "      <td>-4.950000e+01</td>\n",
       "      <td>2.475466e-04</td>\n",
       "      <td>0.0</td>\n",
       "    </tr>\n",
       "    <tr>\n",
       "      <th>max</th>\n",
       "      <td>2017-02-14 00:00:00</td>\n",
       "      <td>-38.0</td>\n",
       "      <td>-1.200000e+01</td>\n",
       "      <td>2.416039e-02</td>\n",
       "      <td>0.0</td>\n",
       "    </tr>\n",
       "    <tr>\n",
       "      <th>std</th>\n",
       "      <td>NaN</td>\n",
       "      <td>14.0</td>\n",
       "      <td>4.344537e+01</td>\n",
       "      <td>4.082066e-04</td>\n",
       "      <td>0.0</td>\n",
       "    </tr>\n",
       "  </tbody>\n",
       "</table>\n",
       "</div>"
      ],
      "text/plain": [
       "                          valid_time    latitude     longitude            tp  \\\n",
       "count                       64233400  64233400.0  6.423340e+07  6.423340e+07   \n",
       "mean   2007-08-23 12:56:56.727273984       -62.0 -8.700000e+01  2.216148e-04   \n",
       "min              1996-10-30 00:00:00       -86.0 -1.620000e+02  0.000000e+00   \n",
       "25%              2003-05-07 18:00:00       -74.0 -1.245000e+02  4.827976e-06   \n",
       "50%              2008-12-26 12:00:00       -62.0 -8.700000e+01  6.544590e-05   \n",
       "75%              2011-09-17 06:00:00       -50.0 -4.950000e+01  2.475466e-04   \n",
       "max              2017-02-14 00:00:00       -38.0 -1.200000e+01  2.416039e-02   \n",
       "std                              NaN        14.0  4.344537e+01  4.082066e-04   \n",
       "\n",
       "           number  \n",
       "count  64233400.0  \n",
       "mean          0.0  \n",
       "min           0.0  \n",
       "25%           0.0  \n",
       "50%           0.0  \n",
       "75%           0.0  \n",
       "max           0.0  \n",
       "std           0.0  "
      ]
     },
     "execution_count": 72,
     "metadata": {},
     "output_type": "execute_result"
    }
   ],
   "source": [
    "total_precipitation.describe()"
   ]
  },
  {
   "cell_type": "code",
   "execution_count": 73,
   "metadata": {},
   "outputs": [
    {
     "name": "stdout",
     "output_type": "stream",
     "text": [
      "64233400\n"
     ]
    }
   ],
   "source": [
    "total_precipitation['number'] = total_precipitation['number'].astype(float)\n",
    "print(sum(total_precipitation['number']==0.0))\n",
    "# number column can probably be dropped as it only contains zeros (its just the length of the frame)\n"
   ]
  },
  {
   "cell_type": "code",
   "execution_count": 74,
   "metadata": {},
   "outputs": [
    {
     "name": "stdout",
     "output_type": "stream",
     "text": [
      "  valid_time  latitude  longitude   tp\n",
      "0 2011-09-01     -86.0     -162.0  0.0\n",
      "1 2011-09-01     -86.0     -161.5  0.0\n",
      "2 2011-09-01     -86.0     -161.0  0.0\n",
      "3 2011-09-01     -86.0     -160.5  0.0\n",
      "4 2011-09-01     -86.0     -160.0  0.0\n"
     ]
    }
   ],
   "source": [
    "total_precipitation = total_precipitation.drop(columns=['number'])\n",
    "print(total_precipitation.head())"
   ]
  },
  {
   "cell_type": "code",
   "execution_count": 75,
   "metadata": {},
   "outputs": [
    {
     "name": "stdout",
     "output_type": "stream",
     "text": [
      "  valid_time  latitude  longitude         t2m  number\n",
      "0 2005-01-01     -86.0     -162.0  256.804840       0\n",
      "1 2005-01-01     -86.0     -161.5  257.231110       0\n",
      "2 2005-01-01     -86.0     -161.0  257.653473       0\n",
      "3 2005-01-01     -86.0     -160.5  258.071930       0\n",
      "4 2005-01-01     -86.0     -160.0  258.428131       0\n"
     ]
    }
   ],
   "source": [
    "# 2m_temperature_stream-enda_daily-meaXXX.nc\n",
    "\n",
    "path_renamed_files = '/Users/philipp/Documents/02_Master_Uni/Uni_Tübingen/Semester_1/06 Data Literacy/02 Project/era5_files/'\n",
    "files=os.listdir(path_renamed_files)\n",
    "\n",
    "temperature = join_dataframes(files, path_renamed_files, '2m_temperature') \n",
    "print(temperature.head())"
   ]
  },
  {
   "cell_type": "code",
   "execution_count": 76,
   "metadata": {},
   "outputs": [
    {
     "data": {
      "text/html": [
       "<div>\n",
       "<style scoped>\n",
       "    .dataframe tbody tr th:only-of-type {\n",
       "        vertical-align: middle;\n",
       "    }\n",
       "\n",
       "    .dataframe tbody tr th {\n",
       "        vertical-align: top;\n",
       "    }\n",
       "\n",
       "    .dataframe thead th {\n",
       "        text-align: right;\n",
       "    }\n",
       "</style>\n",
       "<table border=\"1\" class=\"dataframe\">\n",
       "  <thead>\n",
       "    <tr style=\"text-align: right;\">\n",
       "      <th></th>\n",
       "      <th>valid_time</th>\n",
       "      <th>latitude</th>\n",
       "      <th>longitude</th>\n",
       "      <th>t2m</th>\n",
       "      <th>number</th>\n",
       "    </tr>\n",
       "  </thead>\n",
       "  <tbody>\n",
       "    <tr>\n",
       "      <th>count</th>\n",
       "      <td>64233400</td>\n",
       "      <td>64233400.0</td>\n",
       "      <td>6.423340e+07</td>\n",
       "      <td>6.423340e+07</td>\n",
       "      <td>64233400.0</td>\n",
       "    </tr>\n",
       "    <tr>\n",
       "      <th>mean</th>\n",
       "      <td>2007-08-23 12:56:56.727272704</td>\n",
       "      <td>-62.0</td>\n",
       "      <td>-8.700000e+01</td>\n",
       "      <td>2.230041e+02</td>\n",
       "      <td>0.0</td>\n",
       "    </tr>\n",
       "    <tr>\n",
       "      <th>min</th>\n",
       "      <td>1996-10-30 00:00:00</td>\n",
       "      <td>-86.0</td>\n",
       "      <td>-1.620000e+02</td>\n",
       "      <td>0.000000e+00</td>\n",
       "      <td>0.0</td>\n",
       "    </tr>\n",
       "    <tr>\n",
       "      <th>25%</th>\n",
       "      <td>2003-05-07 18:00:00</td>\n",
       "      <td>-74.0</td>\n",
       "      <td>-1.245000e+02</td>\n",
       "      <td>2.475292e+02</td>\n",
       "      <td>0.0</td>\n",
       "    </tr>\n",
       "    <tr>\n",
       "      <th>50%</th>\n",
       "      <td>2008-12-26 12:00:00</td>\n",
       "      <td>-62.0</td>\n",
       "      <td>-8.700000e+01</td>\n",
       "      <td>2.719107e+02</td>\n",
       "      <td>0.0</td>\n",
       "    </tr>\n",
       "    <tr>\n",
       "      <th>75%</th>\n",
       "      <td>2011-09-17 06:00:00</td>\n",
       "      <td>-50.0</td>\n",
       "      <td>-4.950000e+01</td>\n",
       "      <td>2.795600e+02</td>\n",
       "      <td>0.0</td>\n",
       "    </tr>\n",
       "    <tr>\n",
       "      <th>max</th>\n",
       "      <td>2017-02-14 00:00:00</td>\n",
       "      <td>-38.0</td>\n",
       "      <td>-1.200000e+01</td>\n",
       "      <td>3.083194e+02</td>\n",
       "      <td>0.0</td>\n",
       "    </tr>\n",
       "    <tr>\n",
       "      <th>std</th>\n",
       "      <td>NaN</td>\n",
       "      <td>14.0</td>\n",
       "      <td>4.344537e+01</td>\n",
       "      <td>9.251336e+01</td>\n",
       "      <td>0.0</td>\n",
       "    </tr>\n",
       "  </tbody>\n",
       "</table>\n",
       "</div>"
      ],
      "text/plain": [
       "                          valid_time    latitude     longitude           t2m  \\\n",
       "count                       64233400  64233400.0  6.423340e+07  6.423340e+07   \n",
       "mean   2007-08-23 12:56:56.727272704       -62.0 -8.700000e+01  2.230041e+02   \n",
       "min              1996-10-30 00:00:00       -86.0 -1.620000e+02  0.000000e+00   \n",
       "25%              2003-05-07 18:00:00       -74.0 -1.245000e+02  2.475292e+02   \n",
       "50%              2008-12-26 12:00:00       -62.0 -8.700000e+01  2.719107e+02   \n",
       "75%              2011-09-17 06:00:00       -50.0 -4.950000e+01  2.795600e+02   \n",
       "max              2017-02-14 00:00:00       -38.0 -1.200000e+01  3.083194e+02   \n",
       "std                              NaN        14.0  4.344537e+01  9.251336e+01   \n",
       "\n",
       "           number  \n",
       "count  64233400.0  \n",
       "mean          0.0  \n",
       "min           0.0  \n",
       "25%           0.0  \n",
       "50%           0.0  \n",
       "75%           0.0  \n",
       "max           0.0  \n",
       "std           0.0  "
      ]
     },
     "execution_count": 76,
     "metadata": {},
     "output_type": "execute_result"
    }
   ],
   "source": [
    "temperature.describe()"
   ]
  },
  {
   "cell_type": "code",
   "execution_count": 77,
   "metadata": {},
   "outputs": [],
   "source": [
    "temperature = temperature.drop(columns=['number'])"
   ]
  },
  {
   "cell_type": "code",
   "execution_count": 78,
   "metadata": {},
   "outputs": [
    {
     "name": "stdout",
     "output_type": "stream",
     "text": [
      "  valid_time  latitude  longitude   tp         t2m\n",
      "0 2011-09-01     -86.0     -162.0  0.0  240.542679\n",
      "1 2011-09-01     -86.0     -161.5  0.0  240.307816\n",
      "2 2011-09-01     -86.0     -161.0  0.0  240.068314\n",
      "3 2011-09-01     -86.0     -160.5  0.0  239.823929\n",
      "4 2011-09-01     -86.0     -160.0  0.0  239.604202\n"
     ]
    }
   ],
   "source": [
    "# merge the two dataframes based on valid time, latitude and longitude\n",
    "merged = pd.merge(total_precipitation, temperature, on=['valid_time', 'latitude', 'longitude'])\n",
    "\n",
    "print(merged.head())"
   ]
  },
  {
   "cell_type": "code",
   "execution_count": 82,
   "metadata": {},
   "outputs": [
    {
     "name": "stdout",
     "output_type": "stream",
     "text": [
      "  valid_time  latitude  longitude         t2m\n",
      "1 2011-09-01     -86.0     -161.5  240.307816\n",
      "  valid_time  latitude  longitude   tp\n",
      "1 2011-09-01     -86.0     -161.5  0.0\n"
     ]
    }
   ],
   "source": [
    "# Double check if merge worked\n",
    "print(temperature[(temperature['latitude'] == -86.0) & (temperature['longitude'] == -161.5) & (temperature['valid_time'] == '2011-09-01')])\n",
    "print(total_precipitation[(total_precipitation['latitude'] == -86.0) & (total_precipitation['longitude'] == -161.5) & (total_precipitation['valid_time'] == '2011-09-01')])"
   ]
  },
  {
   "cell_type": "code",
   "execution_count": 83,
   "metadata": {},
   "outputs": [],
   "source": [
    "# save to zip file\n",
    "path_save = '/Users/philipp/Documents/02_Master_Uni/Uni_Tübingen/Semester_1/06 Data Literacy/02 Project/projectP/data/'\n",
    "\n",
    "merged.to_csv(path_save + 'weather_daily_averages.zip', compression={'method': 'zip', 'archive_name': 'weather_daily_averages.csv'}, index=False)"
   ]
  },
  {
   "cell_type": "markdown",
   "metadata": {},
   "source": [
    "# Try different approach to create one single NetCDF file to use for interpolation"
   ]
  },
  {
   "cell_type": "code",
   "execution_count": 5,
   "metadata": {},
   "outputs": [],
   "source": [
    "# function\n",
    "# def append_netcdf(files, input_folder, identifier: str, output_folder):\n",
    "#     datasets = [xr.open_dataset(input_folder + file) for file in files if file.startswith(identifier)]\n",
    "#     concatenated = xr.concat(datasets , dim=\"valid_time\")\n",
    "#     concatenated.to_netcdf(output_folder + identifier + \".nc\")\n",
    "\n",
    "def append_netcdf(input_folder, identifier: str, output_folder):\n",
    "    # Open datasets that match the identifier\n",
    "    files = os.listdir(input_folder)\n",
    "    datasets = [xr.open_dataset(input_folder + file) for file in files if file.startswith(identifier)]\n",
    "    \n",
    "    # Concatenate datasets along the 'valid_time' dimension\n",
    "    concatenated = xr.concat(datasets, dim=\"valid_time\")\n",
    "    \n",
    "    # Save the concatenated dataset to a new NetCDF file\n",
    "    concatenated.to_netcdf(output_folder + identifier + \".nc\")"
   ]
  },
  {
   "cell_type": "code",
   "execution_count": 92,
   "metadata": {},
   "outputs": [],
   "source": [
    "# temperature netcdf\n",
    "path_renamed_files = '/Users/philipp/Documents/02_Master_Uni/Uni_Tübingen/Semester_1/06 Data Literacy/02 Project/era5_files/'\n",
    "path_save = '/Users/philipp/Documents/02_Master_Uni/Uni_Tübingen/Semester_1/06 Data Literacy/02 Project/projectP/data/'\n",
    "\n",
    "append_netcdf(path_renamed_files, '2m_temperature', path_save)"
   ]
  },
  {
   "cell_type": "code",
   "execution_count": 93,
   "metadata": {},
   "outputs": [],
   "source": [
    "# create precipitation .nc file\n",
    "\n",
    "path_renamed_files = '/Users/philipp/Documents/02_Master_Uni/Uni_Tübingen/Semester_1/06 Data Literacy/02 Project/era5_files/'\n",
    "path_save = '/Users/philipp/Documents/02_Master_Uni/Uni_Tübingen/Semester_1/06 Data Literacy/02 Project/projectP/data/'\n",
    "\n",
    "\n",
    "append_netcdf(path_renamed_files, 'total_precipitation', path_save)"
   ]
  },
  {
   "cell_type": "code",
   "execution_count": 98,
   "metadata": {},
   "outputs": [
    {
     "name": "stdout",
     "output_type": "stream",
     "text": [
      "                                     tp\n",
      "valid_time latitude longitude          \n",
      "2011-09-01 -38.0    -162.0     0.000754\n",
      "                    -161.5     0.000713\n",
      "                    -161.0     0.000645\n",
      "                    -160.5     0.000594\n",
      "                    -160.0     0.000606\n",
      "                                      t2m\n",
      "valid_time latitude longitude            \n",
      "2005-01-01 -38.0    -162.0     288.651276\n",
      "                    -161.5     288.757233\n",
      "                    -161.0     288.834137\n",
      "                    -160.5     288.909088\n",
      "                    -160.0     289.017975\n"
     ]
    }
   ],
   "source": [
    "precipitation = xr.open_dataset(path_save + 'total_precipitation.nc', engine='netcdf4')\n",
    "temperature = xr.open_dataset(path_save + '2m_temperature.nc', engine='netcdf4')\n",
    "\n",
    "precipitation_df = precipitation.to_dataframe()\n",
    "temperature_df = temperature.to_dataframe()\n",
    "\n",
    "precipitation_df = precipitation_df.drop(columns=['number'])\n",
    "temperature_df = temperature_df.drop(columns=['number'])\n",
    "\n",
    "print(precipitation_df.head())\n",
    "print(temperature_df.head())"
   ]
  },
  {
   "cell_type": "code",
   "execution_count": 99,
   "metadata": {},
   "outputs": [],
   "source": [
    "# merge the two netcdf files so both variables are stored in one file\n",
    "path_save = '/Users/philipp/Documents/02_Master_Uni/Uni_Tübingen/Semester_1/06 Data Literacy/02 Project/projectP/data/'\n",
    "\n",
    "precipitation_xr = precipitation_df.to_xarray()\n",
    "temperature_xr = temperature_df.to_xarray() \n",
    "\n",
    "merged = xr.merge([precipitation_xr, temperature_xr])\n"
   ]
  },
  {
   "cell_type": "code",
   "execution_count": 100,
   "metadata": {},
   "outputs": [],
   "source": [
    "# to netcdf\n",
    "merged.to_netcdf(path_save + 'merged_weather.nc')"
   ]
  },
  {
   "cell_type": "code",
   "execution_count": 101,
   "metadata": {},
   "outputs": [
    {
     "name": "stdout",
     "output_type": "stream",
     "text": [
      "                                     tp         t2m\n",
      "valid_time latitude longitude                      \n",
      "1996-10-30 -38.0    -162.0     0.000010  286.694824\n",
      "                    -161.5     0.000016  286.722168\n",
      "                    -161.0     0.000021  286.678955\n",
      "                    -160.5     0.000032  286.636230\n",
      "                    -160.0     0.000057  286.636230\n"
     ]
    }
   ],
   "source": [
    "data_test = xr.open_dataset(path_save + 'merged_weather.nc', engine='netcdf4')\n",
    "\n",
    "data_test_df = data_test.to_dataframe()\n",
    "\n",
    "print(data_test_df.head())\n",
    "\n"
   ]
  },
  {
   "cell_type": "markdown",
   "metadata": {},
   "source": [
    "# ERA5 Cohort 2\n"
   ]
  },
  {
   "cell_type": "code",
   "execution_count": 8,
   "metadata": {},
   "outputs": [],
   "source": [
    "path = '/Users/philipp/Documents/02_Master_Uni/Uni_Tübingen/Semester_1/06 Data Literacy/02 Project/ERA5_cohort2_zipped'\n",
    "output_path = '/Users/philipp/Documents/02_Master_Uni/Uni_Tübingen/Semester_1/06 Data Literacy/02 Project/ERA5_2_unzipped/'\n",
    "\n",
    "files=os.listdir(path)\n",
    "\n",
    "\n",
    "unzip_files(path, output_path)"
   ]
  },
  {
   "cell_type": "code",
   "execution_count": 11,
   "metadata": {},
   "outputs": [],
   "source": [
    "# read each folder in unzipped folder and rename the files\n",
    "path_new = output_path\n",
    "path_renamed_files = '/Users/philipp/Documents/02_Master_Uni/Uni_Tübingen/Semester_1/06 Data Literacy/02 Project/era5_2_files/'\n",
    "                \n",
    "rename_files(path_new, path_renamed_files)"
   ]
  },
  {
   "cell_type": "code",
   "execution_count": 18,
   "metadata": {},
   "outputs": [],
   "source": [
    "# save netcdfs\n",
    "\n",
    "path_renamed_files = '/Users/philipp/Documents/02_Master_Uni/Uni_Tübingen/Semester_1/06 Data Literacy/02 Project/era5_2_files/'\n",
    "path_save = '/Users/philipp/Documents/02_Master_Uni/Uni_Tübingen/Semester_1/06 Data Literacy/02 Project/projectP/data/'\n",
    "all_files = os.listdir(path_renamed_files)\n",
    "\n",
    "identifiers = ['mean_snowmelt', 'sea_ice_cover', 'sea_surface_temp', 'snow_density', 'snow_depth']\n",
    "for identifier in identifiers:\n",
    "    append_netcdf(all_files, path_renamed_files, identifier, path_save)"
   ]
  }
 ],
 "metadata": {
  "kernelspec": {
   "display_name": "projectP",
   "language": "python",
   "name": "python3"
  },
  "language_info": {
   "codemirror_mode": {
    "name": "ipython",
    "version": 3
   },
   "file_extension": ".py",
   "mimetype": "text/x-python",
   "name": "python",
   "nbconvert_exporter": "python",
   "pygments_lexer": "ipython3",
   "version": "3.9.19"
  }
 },
 "nbformat": 4,
 "nbformat_minor": 2
}
