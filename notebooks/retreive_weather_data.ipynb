{
 "cells": [
  {
   "cell_type": "code",
   "execution_count": null,
   "metadata": {},
   "outputs": [],
   "source": [
    "import sys\n",
    "\n",
    "# Calculate the absolute path to the project root (one level up) to make src available\n",
    "project_root = os.path.abspath(os.path.join(os.getcwd(), '..'))\n",
    "if project_root not in sys.path:\n",
    "    sys.path.insert(0, project_root)\n",
    "\n",
    "import cdsapi\n",
    "import json\n",
    "import numpy as np\n",
    "from collections import defaultdict\n",
    "import os\n",
    "import src.api_functions as api_fnc"
   ]
  },
  {
   "cell_type": "markdown",
   "metadata": {},
   "source": [
    "## API call for the unique daily weather data"
   ]
  },
  {
   "cell_type": "markdown",
   "metadata": {},
   "source": [
    "We download the weather data only for the dates with penguin data in the daily aggregated penguin frame, for storage reasons"
   ]
  },
  {
   "cell_type": "code",
   "execution_count": null,
   "metadata": {},
   "outputs": [],
   "source": [
    "path_json = '/Users/philipp/Documents/02_Master_Uni/Uni_Tübingen/Semester_1/06 Data Literacy/02 Project/projectP/era5_datasets/unique_dates_dict.json'\n",
    "unique_combs = api_fnc.get_unique_date_combinations(path_json)   # Obtains the unique date combinations from the json file they are stored in"
   ]
  },
  {
   "cell_type": "code",
   "execution_count": null,
   "metadata": {},
   "outputs": [],
   "source": [
    "# Makes an API request for each unique year-month combination (and the respective days)\n",
    "api_fnc.retreive_daily_climate(unique_combs, target_directory = \"/Users/philipp/Documents/02_Master_Uni/Uni_Tübingen/Semester_1/06 Data Literacy/02 Project/projectP/era5_datasets\")"
   ]
  },
  {
   "cell_type": "markdown",
   "metadata": {},
   "source": [
    "## API call for the monthly data (and the reference period)"
   ]
  },
  {
   "cell_type": "code",
   "execution_count": null,
   "metadata": {},
   "outputs": [
    {
     "name": "stderr",
     "output_type": "stream",
     "text": [
      "2025-02-10 14:22:08,611 INFO [2024-09-26T00:00:00] Watch our [Forum](https://forum.ecmwf.int/) for Announcements, news and other discussed topics.\n",
      "2025-02-10 14:22:08,612 WARNING [2024-06-16T00:00:00] CDS API syntax is changed and some keys or parameter names may have also changed. To avoid requests failing, please use the \"Show API request code\" tool on the dataset Download Form to check you are using the correct syntax for your API request.\n",
      "2025-02-10 14:22:09,305 INFO Request ID is ea85e742-64cd-4489-a889-90b2e65b392a\n",
      "2025-02-10 14:22:09,417 INFO status has been updated to accepted\n",
      "2025-02-10 14:22:17,929 INFO status has been updated to running\n",
      "2025-02-10 14:26:28,508 WARNING Structural differences in grib fields detected when opening in xarray. Opening the grib file safely, however this may result in files with non-intuitive filenames.\n",
      "2025-02-10 14:26:28,515 INFO status has been updated to successful\n"
     ]
    },
    {
     "data": {
      "application/vnd.jupyter.widget-view+json": {
       "model_id": "ab1328d0a2ca44ccaebe845725da4492",
       "version_major": 2,
       "version_minor": 0
      },
      "text/plain": [
       "8af2b5a52863f053bd88dc6bacd90fa7.zip:   0%|          | 0.00/162M [00:00<?, ?B/s]"
      ]
     },
     "metadata": {},
     "output_type": "display_data"
    }
   ],
   "source": [
    "api_fnc.get_monthly_era5_data(period='normal', target_directory = \"../data/era5_monthly\")"
   ]
  },
  {
   "cell_type": "code",
   "execution_count": null,
   "metadata": {},
   "outputs": [],
   "source": [
    "api_fnc.get_monthly_era5_data(period='reference', target_directory = \"../data/era5_reference_period\")"
   ]
  }
 ],
 "metadata": {
  "kernelspec": {
   "display_name": "projectP",
   "language": "python",
   "name": "python3"
  },
  "language_info": {
   "codemirror_mode": {
    "name": "ipython",
    "version": 3
   },
   "file_extension": ".py",
   "mimetype": "text/x-python",
   "name": "python",
   "nbconvert_exporter": "python",
   "pygments_lexer": "ipython3",
   "version": "3.9.19"
  }
 },
 "nbformat": 4,
 "nbformat_minor": 2
}
